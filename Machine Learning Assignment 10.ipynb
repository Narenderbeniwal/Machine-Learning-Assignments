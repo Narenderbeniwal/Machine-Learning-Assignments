{
 "cells": [
  {
   "cell_type": "raw",
   "metadata": {},
   "source": [
    "\t•\tDefine the Bayesian interpretation of probability.\n",
    "\t•\tDefine probability of a union of two events with equation.\n",
    "\t•\tWhat is joint probability? What is its formula?\n",
    "\t•\tWhat is chain rule of probability?\n",
    "\t•\tWhat is conditional probability means? What is the formula of it?\n",
    "\t•\tWhat are continuous random variables?\n",
    "\t•\tWhat are Bernoulli distributions? What is the formula of it?\n",
    "\t•\tWhat is binomial distribution? What is the formula?\n",
    "\t•\tWhat is Poisson distribution? What is the formula?\n",
    "\t•\tDefine covariance.\n",
    "\t•\tDefine correlation\n",
    "\t•\tDefine sampling with replacement. Give example.\n",
    "\t•\tWhat is sampling without replacement? Give example.\n",
    "\t•\tWhat is hypothesis? Give example.\n"
   ]
  },
  {
   "cell_type": "raw",
   "metadata": {},
   "source": [
    "Q. 1 Define the Bayesian interpretation of probability.\n",
    "\n",
    "Sol: Bayesian probability is an interpretation of the concept of probability, in which, instead of frequency or propensity of some phenomenon, probability is interpreted as reasonable expectation representing a state of knowledge or as quantification of a personal belief"
   ]
  },
  {
   "cell_type": "raw",
   "metadata": {},
   "source": [
    "Q. 2 Define probability of a union of two events with equation.\n",
    "\n",
    "Sol:  P(A∪B)=P(A)+P(B)- P ( A ∩ B ) "
   ]
  },
  {
   "attachments": {
    "joint-probability.webp": {
     "image/webp": "[encoded data removed]"
    }
   },
   "cell_type": "markdown",
   "metadata": {},
   "source": [
    "![joint-probability.webp](attachment:joint-probability.webp)Q. 3 What is joint probability? What is its formula?\n",
    " Sol: A joint probability, in probability theory, refers to the probability that two events will both occur. In other words, joint probability is the likelihood of two events occurring together.\n",
    "\n",
    "Where:\n",
    "\n",
    "P(A ⋂ B) is the notation for the joint probability of event “A” and “B”.\n",
    "\n",
    "\n",
    "P(A) is the probability of event “A” occurring.\n",
    "\n",
    "\n",
    "P(B) is the probability of event “B” occurring.\n",
    "\n"
   ]
  },
  {
   "cell_type": "raw",
   "metadata": {},
   "source": [
    "Q.4 What is chain rule of probability?\n",
    "\n",
    "Sol: Chain rule for conditional probability:\n",
    "P(A1∩A2∩⋯∩An)=P(A1)P(A2|A1)P(A3|A2,A1)⋯P(An|An−1An−2⋯A1)\n",
    "\n",
    "In a factory there are 100 units of a certain product, 5 of which are defective. We pick three units from the 100 units at random. What is the probability that none of them are defective?\n",
    "\n",
    "Solution\n",
    "Let us define Ai as the event that the ith chosen unit is not defective, for i=1,2,3. We are interested in P(A1∩A2∩A3). Note that\n",
    "P(A1)=95100.\n",
    "Given that the first chosen item was good, the second item will be chosen from 94 good units and 5 defective units, thus\n",
    "P(A2|A1)=9499.\n",
    "Given that the first and second chosen items were okay, the third item will be chosen from 93 good units and 5 defective units, thus\n",
    "P(A3|A2,A1)=9398.\n",
    "Thus, we have\n",
    "\n",
    "P(A1∩A2∩A3)\t=P(A1)P(A2|A1)P(A3|A2,A1)\n",
    "=9510094999398\n",
    "=0.8560\n",
    "\n",
    "As we will see later on, another way to solve this problem is to use counting arguments.\n"
   ]
  },
  {
   "cell_type": "raw",
   "metadata": {},
   "source": [
    "Q.5 What is conditional probability means? What is the formula of it?\n",
    "\n",
    "Sol: Conditional probability is defined as the likelihood of an event or outcome occurring, based on the occurrence of a previous event or outcome. Conditional probability is calculated by multiplying the probability of the preceding event by the updated probability of the succeeding, or conditional, event.\n",
    "\n",
    "\n",
    "For example:\n",
    "\n",
    "\n",
    "Event A is that an individual applying for college will be accepted. There is an 80% chance that this individual will be accepted to college.\n",
    "Event B is that this individual will be given dormitory housing. Dormitory housing will only be provided for 60% of all of the accepted students.\n",
    "P (Accepted and dormitory housing) = P (Dormitory Housing | Accepted) P (Accepted) = (0.60)*(0.80) = 0.48.\n",
    "A conditional probability would look at these two events in relationship with one another, such as the probability that you are both accepted to college, and you are provided with dormitory housing.\n",
    "\n",
    "P(B|A) = P(A and B) / P(A)\n",
    "Or:\n",
    "\n",
    "P(B|A) = P(A∩B) / P(A)\n"
   ]
  },
  {
   "cell_type": "raw",
   "metadata": {},
   "source": [
    "Q. 6.What are continuous random variables?\n",
    "\n",
    "Sol: A continuous random variable is one which takes an infinite number of possible values. ... The probability of observing any single value is equal to 0, since the number of values which may be assumed by the random variable is infinite"
   ]
  },
  {
   "attachments": {
    "pdf-bernoulli.png": {
     "image/png": "[encoded data removed]"
    }
   },
   "cell_type": "markdown",
   "metadata": {},
   "source": [
    "![pdf-bernoulli.png](attachment:pdf-bernoulli.png)Q. 7 What are Bernoulli distributions? What is the formula of it?\n",
    "\n",
    "Sol: A Bernoulli distribution is a discrete probability distribution for a Bernoulli trial — a random experiment that has only two outcomes (usually called a “Success” or a “Failure”). For example, the probability of getting a heads (a “success”) while flipping a coin is 0.5. The probability of “failure” is 1 – P (1 minus the probability of success, which also equals 0.5 for a coin toss). It is a special case of the binomial distribution for n = 1. In other words, it is a binomial distribution with a single trial (e.g. a single coin toss)."
   ]
  },
  {
   "cell_type": "raw",
   "metadata": {},
   "source": [
    "Q.8 What is binomial distribution? What is the formula?\n",
    "\n",
    "\n",
    "Sol:\n",
    "The binomial distribution is a common discrete distribution used in statistics, as opposed to a continuous distribution, such as the normal distribution. The binomial distribution, therefore, represents the probability for x successes in n trials, given a success probability p for each trial. The binomial distribution formula is for any random variable X, given by;  P(x:n,p) = nCxx px (1-p)n-x Or P(x:n,p) = nCxx px (q)n-x, where, n is the number of experiments, p is probability of success in a single experiment, q is probability of failure in a single experiment (= 1 – p) and takes values as 0, 1, 2, 3, 4, …, n."
   ]
  },
  {
   "cell_type": "raw",
   "metadata": {},
   "source": [
    "Q.9 What is Poisson distribution? What is the formula?\n",
    "Sol:\n",
    "\n",
    "In statistics, a Poisson distribution is a probability distribution that is used to show how many times an event is likely to occur over a specified period. ... The Poisson distribution is a discrete function, meaning that the variable can only take specific values in a (potentially infinite) list.\n",
    "\n",
    "𝑓(𝑥)=𝑃(𝑋=𝑥)=𝑒−𝜆𝜆𝑥𝑥!for x = 0,1,2…. ∞"
   ]
  },
  {
   "cell_type": "raw",
   "metadata": {},
   "source": [
    "Q. 10. Define covariance.\n",
    "\n",
    "Sol: Covariance provides insight into how two variables are related to one another. More precisely, covariance refers to the measure of how two random variables in a data set will change together. A positive covariance means that the two variables at hand are positively related, and they move in the same direction."
   ]
  },
  {
   "cell_type": "raw",
   "metadata": {},
   "source": [
    "Q. 11 Define corelation\n",
    "\n",
    "Sol: Correlation means association - more precisely it is a measure of the extent to which two variables are related. ... Therefore, when one variable increases as the other variable increases, or one variable decreases while the other decreases. An example of positive correlation would be height and weight."
   ]
  },
  {
   "cell_type": "raw",
   "metadata": {},
   "source": [
    "Q. 12 Define sampling with replacement. Give example.\n",
    "\n",
    "Sol: Sampling is called with replacement when a unit selected at random from the population is returned to the population and then a second element is selected at random. Whenever a unit is selected, the population contains all the same units, so a unit may be selected more than once.\n"
   ]
  },
  {
   "cell_type": "raw",
   "metadata": {},
   "source": [
    "Q. 13 What is sampling without replacement? Give example.\n",
    "\n",
    "Sol :in simple random sampling without replacement, a chosen unit is not returned to the population after the drawn is made.\n"
   ]
  },
  {
   "cell_type": "raw",
   "metadata": {},
   "source": [
    "Q. 14 What is hypothesis? Give example.\n",
    "\n",
    "Sol: let's say you have a bad breakout the morning after eating a lot of greasy food. You may wonder if there is a correlation between eating greasy food and getting pimples. You propose the hypothesis: Eating greasy food causes pimples."
   ]
  }
 ],
 "metadata": {
  "kernelspec": {
   "display_name": "Python 3",
   "language": "python",
   "name": "python3"
  },
  "language_info": {
   "codemirror_mode": {
    "name": "ipython",
    "version": 3
   },
   "file_extension": ".py",
   "mimetype": "text/x-python",
   "name": "python",
   "nbconvert_exporter": "python",
   "pygments_lexer": "ipython3",
   "version": "3.8.5"
  }
 },
 "nbformat": 4,
 "nbformat_minor": 4
}
