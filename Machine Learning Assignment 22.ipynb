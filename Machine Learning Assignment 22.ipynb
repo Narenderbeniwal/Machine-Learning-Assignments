{
 "cells": [
  {
   "cell_type": "raw",
   "metadata": {},
   "source": [
    "1. Is there any way to combine five different models that have all been trained on the same training data and have all achieved 95 percent precision? If so, how can you go about doing it? If not, what is the reason?\n",
    "2. What's the difference between hard voting classifiers and soft voting classifiers?\n",
    "3. Is it possible to distribute a bagging ensemble's training through several servers to speed up the process? Pasting ensembles, boosting ensembles, Random Forests, and stacking ensembles are all options.\n",
    "\n",
    "4. What is the advantage of evaluating out of the bag?\n",
    "\n",
    "5. What distinguishes Extra-Trees from ordinary Random Forests? What good would this extra randomness do? Is it true that Extra-Tree Random Forests are slower or faster than normal Random Forests?\n",
    "\n",
    "6. Which hyperparameters and how do you tweak if your AdaBoost ensemble underfits the training data?\n",
    "\n",
    "7. Should you raise or decrease the learning rate if your Gradient Boosting ensemble overfits the training set?"
   ]
  },
  {
   "cell_type": "raw",
   "metadata": {},
   "source": [
    "1. Is there any way to combine five different models that have all been trained on the same training data and have all achieved 95 percent precision? If so, how can you go about doing it? If not, what is the reason?\n",
    "Sol: You can combine these models into a voting ensemble to try to get better results. This works better on models that are very different, and trained on different training instances, but it will still work as long as the models are very different."
   ]
  },
  {
   "cell_type": "raw",
   "metadata": {},
   "source": [
    "Q. 2. What's the difference between hard voting classifiers and soft voting classifiers?\n",
    "Sol: Hard voting classifiers: Counts the votes of each classifier in the ensemble and picks the class that gets the most votes\n",
    "Soft voting classifier: computes the average estimated class probability for each class and picks the class with the highest probability. Gives high-confidence votes more weight, but only works if every classifier is able to estimate class probabilities.\n",
    "\n",
    "\n",
    "\n",
    "\n"
   ]
  },
  {
   "cell_type": "raw",
   "metadata": {},
   "source": [
    "Q. 3. Is it possible to distribute a bagging ensemble's training through several servers to speed up the process? Pasting ensembles, boosting ensembles, Random Forests, and stacking ensembles are all options.\n",
    "Sol: It is possible to speed up training of bagging, pasting, and random forests because each predictor is independent of the others.\n",
    "boosting ensemble predictors are built based on the previous predictor, so you separating training will not help.\n",
    "For stacking ensembles, all predictors for one layer has to be trained before the next layer.\n"
   ]
  },
  {
   "cell_type": "raw",
   "metadata": {},
   "source": [
    "Q. 4. What is the advantage of evaluating out of the bag?\n",
    "Sol: Each predictor in a bagging ensemble is evaluated using instances it was not trained on. This creates an unbiased eval of the ensemble without the need for a validation set. You can have more instances for training, and your ensemble can perform slightly better.\n"
   ]
  },
  {
   "cell_type": "raw",
   "metadata": {},
   "source": [
    "Q.5 What makes Extra-Trees more random than regular Random Forests? How can\n",
    "this extra randomness help? Are Extra-Trees slower or faster than regular Random Forests?\n",
    "\n",
    "Sol:Extra-trees use random thresholds for each feature, instead of finding the best threshold. The extra randomness acts like a form of regularization and can be used to fix overfitting.\n",
    "However, this is neither faster nor slower than random forests when making decisions.\n"
   ]
  },
  {
   "cell_type": "raw",
   "metadata": {},
   "source": [
    "Q. 6. Which hyperparameters and how do you tweak if your AdaBoost ensemble underfits the training data?\n",
    "\n",
    "Sol: Increase estimators\n",
    " Increase Learning Rate\n",
    " Decrease regularization hyperparameters.\n"
   ]
  },
  {
   "cell_type": "raw",
   "metadata": {},
   "source": [
    "Q. 7. Should you raise or decrease the learning rate if your Gradient Boosting ensemble overfits the training set?\n",
    "\n",
    "Sol: Try decreasing the learning rate or use early stopping to find the right number of predictors (there are probably too many)\n"
   ]
  },
  {
   "cell_type": "code",
   "execution_count": null,
   "metadata": {},
   "outputs": [],
   "source": []
  }
 ],
 "metadata": {
  "kernelspec": {
   "display_name": "Python 3",
   "language": "python",
   "name": "python3"
  },
  "language_info": {
   "codemirror_mode": {
    "name": "ipython",
    "version": 3
   },
   "file_extension": ".py",
   "mimetype": "text/x-python",
   "name": "python",
   "nbconvert_exporter": "python",
   "pygments_lexer": "ipython3",
   "version": "3.8.5"
  }
 },
 "nbformat": 4,
 "nbformat_minor": 4
}
