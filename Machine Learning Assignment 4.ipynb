{
 "cells": [
  {
   "cell_type": "raw",
   "metadata": {},
   "source": [
    "1. What are the key tasks involved in getting ready to work with machine learning modeling?\n",
    "2. What are the different forms of data used in machine learning? Give a specific example for each of them.\n",
    "3. Distinguish:\n",
    "\n",
    "           1. Numeric vs. categorical attributes\n",
    "\n",
    "            2. Feature selection vs. dimensionality reduction\n",
    "\n",
    "4. Make quick notes on any two of the following:\n",
    "\n",
    "            1. The histogram\n",
    "\n",
    "             2. Use a scatter plot\n",
    "\n",
    "              3.PCA (Personal Computer Aid)\n",
    "\n",
    "5. Why is it necessary to investigate data? Is there a discrepancy in how qualitative and quantitative data are explored?\n",
    "\n",
    "6. What are the various histogram shapes? What exactly are ‘bins'?\n",
    "\n",
    "7. How do we deal with data outliers?\n",
    "\n",
    "8. What are the various central inclination measures? Why does mean vary too much from median in certain data sets?\n",
    "\n",
    "9. Describe how a scatter plot can be used to investigate bivariate relationships. Is it possible to find outliers using a scatter plot?\n",
    "\n",
    "10. Describe how cross-tabs can be used to figure out how two variables are related.\n",
    "\n"
   ]
  },
  {
   "cell_type": "raw",
   "metadata": {},
   "source": [
    "# Q. 1. What are the key tasks involved in getting ready to work with machine learning modeling?\n",
    "Sol: 1 - Data Collection.\n",
    "2 - Data Preparation.\n",
    "3 - Choose a Model.\n",
    "4 - Train the Model.\n",
    "5 - Evaluate the Model.\n",
    "6 - Parameter Tuning.\n",
    "7 - Make Predictions."
   ]
  },
  {
   "cell_type": "raw",
   "metadata": {},
   "source": [
    "Q. 2. What are the different forms of data used in machine learning? Give a specific example for each of them.\n",
    "\n",
    "Sol: Almost anything can be turned into DATA. Building a deep understanding of the different data types is a crucial prerequisite for doing Exploratory Data Analysis (EDA) and Feature Engineering for Machine Learning models. You also need to convert data types of some variables in order to make appropriate choices for visual encodings in data visualization and storytelling.\n",
    "Most data can be categorized into 4 basic types from a Machine Learning perspective: numerical data, categorical data, time-series data, and text.\n",
    "\n",
    "Numerical Data\n",
    "Numerical data is any data where data points are exact numbers. Statisticians also might call numerical data, quantitative data. This data has meaning as a measurement such as house prices or as a count, such as a number of residential properties in Los Angeles or how many houses sold in the past year.\n",
    "Categorical Data:\n",
    "Categorical data represents characteristics, such as a hockey player’s position, team, hometown. Categorical data can take numerical values. For example, maybe we would use 1 for the colour red and 2 for blue. But these numbers don’t have a mathematical meaning. That is, we can’t add them together or take the average.\n",
    "\n",
    "Time Series Data\n",
    "Time series data is a sequence of numbers collected at regular intervals over some period of time. It is very important, especially in particular fields like finance. Time series data has a temporal value attached to it, so this would be something like a date or a timestamp that you can look for trends in time.\n",
    "\n",
    "Text\n",
    "Text data is basically just words. A lot of the time the first thing that you do with text is you turn it into numbers using some interesting functions like the bag of words formulation.\n"
   ]
  },
  {
   "cell_type": "raw",
   "metadata": {},
   "source": [
    "3. Distinguish:\n",
    "\n",
    "           1. Numeric vs. categorical attributes\n",
    "\n",
    "            \n",
    "            \n",
    "Sol: A categorical variable is a category or type. For example, hair color is a categorical value or hometown is a categorical variable. Species, treatment type, and gender are all categorical variables.\n",
    "\n",
    "A numerical variable is a variable where the measurement or number has a numerical meaning. For example, total rainfall measured in inches is a numerical value, heart rate is a numerical value, number of cheeseburgers consumed in an hour is a numerical value.\n",
    "\n",
    "A categorical variable can be expressed as a number for the purpose of statistics, but these numbers do not have the same meaning as a numerical value . For example, if I am studying the effects of three different medications on an illness, I may name the three different medicines, medicine 1, medicine 2, and medicine 3. However, medicine three is not greater, or stronger, or faster than medicine one. These numbers are not meaningful.\n",
    "\n",
    "2. Feature selection vs. dimensionality reduction\n",
    "Sol: In the  Feature selection  we select the fearutres which are corelated with the our output of the model and in  Dimensionality reduction transforms features into a lower dimension. \n",
    "\n",
    "\n",
    "While both methods are used for reducing the number of features in a dataset, there is an important difference. Feature selection is simply selecting and excluding given features without changing them. Dimensionality reduction transforms features into a lower dimension."
   ]
  },
  {
   "cell_type": "raw",
   "metadata": {},
   "source": [
    "4. Make quick notes on any two of the following:\n",
    "\n",
    "            1. The histogram\n",
    "\n",
    "             2. Use a scatter plot\n",
    "\n",
    "              3.PCA (Personal Computer Aid)\n",
    "Sol: The Histogarm: A histogram is a chart that shows frequencies for. intervals of values of a metric variable. Such intervals as known as “bins” and they all have the same widths.\n",
    "\n",
    "2. Use a scatter plot\n",
    "The scatter diagram graphs pairs of numerical data, with one variable on each axis, to look for a relationship between them. If the variables are correlated, the points will fall along a line or curve"
   ]
  },
  {
   "cell_type": "raw",
   "metadata": {},
   "source": [
    "5. Why is it necessary to investigate data? Is there a discrepancy in how qualitative and quantitative data are explored?\n",
    "Sol :\n",
    "Data analysis is important in business to understand problems facing an organisation, and to explore data in meaningful ways. Data in itself is merely facts and figures. Data analysis organises, interprets, structures and presents the data into useful information that provides context for the data.''\n",
    "\n",
    "\n",
    "Is there a discrepancy in how qualitative and quantitative data are explored?\n",
    "Quantitative data can be counted, measured, and expressed using numbers. Qualitative data is descriptive and conceptual. Qualitative data can be categorized based on traits and characteristics.\n"
   ]
  },
  {
   "cell_type": "raw",
   "metadata": {},
   "source": [
    "6. What are the various histogram shapes? What exactly are ‘bins'?\n",
    "\n",
    "Sol: \n",
    "Bell-shaped: A bell-shaped picture, shown below, usually presents a normal distribution.\n",
    "Bimodal: A bimodal shape, shown below, has two peaks. ...\n",
    "Skewed left: Some histograms will show a skewed distribution to the left. .\n",
    "Sol: A histogram is a chart that plots the distribution of a numeric variable's values as a series of bars. Each bar typically covers a range of numeric values called a bin or class; a bar's height indicates the frequency of data points with a value within the corresponding bin."
   ]
  },
  {
   "cell_type": "raw",
   "metadata": {},
   "source": [
    "7. How do we deal with data outliers?\n",
    "Sol 1. Set up a filter in your testing tool.\n",
    "2. Remove or change outliers during post-test analysis\n",
    "3. Change the value of outliers\n",
    "4. Consider the underlying distribution\n",
    "5. Consider the value of mild outliers"
   ]
  },
  {
   "cell_type": "raw",
   "metadata": {},
   "source": [
    "8. What are the various central inclination measures? Why does mean vary too much from median in certain data sets?\n",
    "Sol: A measure of central tendency is an important aspect of quantitative data. It is an estimate of a “typical” value. Three of the many ways to measure central tendency are the mean, median and mode. There are other measures, such as a trimmed mean, that we do not discuss here.\n",
    "\n",
    "\n",
    " The mean is not a robust tool since it is largely influenced by outliers. ... A mean is computed by adding up all the values and dividing that score by the number of values. The Median is the number found at the exact middle of the set of values."
   ]
  },
  {
   "cell_type": "raw",
   "metadata": {},
   "source": [
    "9. Describe how a scatter plot can be used to investigate bivariate relationships. Is it possible to find outliers using a scatter plot?\n",
    "\n",
    "Sol : Yes  Is it possible to find outliers using a scatter plot."
   ]
  },
  {
   "cell_type": "raw",
   "metadata": {},
   "source": [
    "10. Describe how cross-tabs can be used to figure out how two variables are related.\n",
    " If the two elements are independent, the tabulation is termed insignificant, and the study would be termed as a null hypothesis.\n",
    "\n",
    "helps identify if the variables of the study are independent or related to each other. "
   ]
  },
  {
   "cell_type": "code",
   "execution_count": null,
   "metadata": {},
   "outputs": [],
   "source": []
  }
 ],
 "metadata": {
  "kernelspec": {
   "display_name": "Python 3",
   "language": "python",
   "name": "python3"
  },
  "language_info": {
   "codemirror_mode": {
    "name": "ipython",
    "version": 3
   },
   "file_extension": ".py",
   "mimetype": "text/x-python",
   "name": "python",
   "nbconvert_exporter": "python",
   "pygments_lexer": "ipython3",
   "version": "3.8.5"
  }
 },
 "nbformat": 4,
 "nbformat_minor": 4
}
