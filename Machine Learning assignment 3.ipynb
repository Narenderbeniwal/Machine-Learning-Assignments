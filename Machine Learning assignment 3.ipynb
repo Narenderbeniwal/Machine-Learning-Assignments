{
 "cells": [
  {
   "cell_type": "raw",
   "id": "7fb5bb12",
   "metadata": {},
   "source": [
    "1.Explain the term machine learning, and how does it work? Explain two machine learning applications in the business world. What are some of the ethical concerns that machine learning applications could raise?\n",
    "2. Describe the process of human learning:\n",
    "           i. Under the supervision of experts\n",
    "\n",
    "           ii. With the assistance of experts in an indirect manner\n",
    "\n",
    "            iii. Self-education\n",
    "\n",
    "3. Provide a few examples of various types of machine learning.\n",
    "\n",
    "4. Examine the various forms of machine learning.\n",
    "\n",
    "5. Can you explain what a well-posed learning problem is? Explain the main characteristics that must be present to identify a learning problem properly.\n",
    "\n",
    "6. Is machine learning capable of solving all problems? Give a detailed explanation of your answer.\n",
    "\n",
    "7. What are the various methods and technologies for solving machine learning problems? Any two of them should be defined in detail.\n",
    "\n",
    "8. Can you explain the various forms of supervised learning? Explain each one with an example application.\n",
    "\n",
    "9. What is the difference between supervised and unsupervised learning? With a sample application in each region, explain the differences.\n",
    "\n",
    "10. Describe the machine learning process in depth.\n",
    "\n",
    "a. Make brief notes on any two of the following:\n",
    "\n",
    "MATLAB is one of the most widely used programming languages.\n",
    "\n",
    "        ii. Deep learning applications in healthcare\n",
    "\n",
    "        iii. Study of the market basket\n",
    "\n",
    "         iv. Linear regression (simple)\n",
    "\n",
    "11. Make a comparison between:-\n",
    "\n",
    "         1. Generalization and abstraction\n",
    "\n",
    "          2. Learning that is guided and unsupervised\n",
    "\n",
    "          3. Regression and classification\n"
   ]
  },
  {
   "cell_type": "raw",
   "id": "af4d7283",
   "metadata": {},
   "source": [
    "1.Explain the term machine learning, and how does it work? Explain two machine learning applications in the business world. What are some of the ethical concerns that machine learning applications could raise?\n",
    "Ans: Machine learning is a branch of artificial intelligence (AI) and computer science which focuses on the use of data and algorithms to imitate the way that humans learn, gradually improving its accuracy.\n",
    "Application in real world: Youtube and netflix recomendation system, siri, used in ola, uber ete\n",
    "\n",
    "---Job Loss and Wealth Inequality. ...\n",
    "AI is Imperfect — What if it Makes a Mistake? ...\n",
    "Should AI Systems Be Allowed to Kill? ...\n",
    "Rogue AIs. ...\n",
    "Singularity and Keeping Control Over AIs. ...\n",
    "How Should We Treat AIs? ...\n",
    "AI Bias.----------\n"
   ]
  },
  {
   "cell_type": "raw",
   "id": "30ebcf8c",
   "metadata": {},
   "source": [
    "2. Describe the process of human learning:\n",
    " Sol:           i. Under the supervision of experts: Here we learn from an expert.\n",
    "\n",
    "           ii. With the assistance of experts in an indirect manner\n",
    "\n",
    "            iii. Self-education: by reading some books, watching vedios, seeing other we can learn many thinks.\n",
    "                "
   ]
  },
  {
   "cell_type": "raw",
   "id": "4b1bff4f",
   "metadata": {},
   "source": [
    "3. Provide a few examples of various types of machine learning.\n",
    "Sol: Supervised learning, unsupervised learning, semi-Supervised learning, Reainforcement learning, online v/s batch learning"
   ]
  },
  {
   "cell_type": "raw",
   "id": "9933680d",
   "metadata": {},
   "source": [
    "4. Examine the various forms of machine learning.\n",
    "Sol: Supervised Learning.\n",
    "Unsupervised Learning.\n",
    "Reinforcement Learning. Hybrid Learning Problems.\n",
    "Semi-Supervised Learning.\n",
    "Self-Supervised Learning.\n",
    "Multi-Instance Learning. Statistical Inference.\n",
    "Inductive Learning.\n",
    "Deductive Inference."
   ]
  },
  {
   "cell_type": "raw",
   "id": "54b45dfd",
   "metadata": {},
   "source": [
    "5. Can you explain what a well-posed learning problem is? Explain the main characteristics that must be present to identify a learning problem properly.\n",
    "Sol: A (machine learning) problem is well-posed if a solution to it exists, if that solution is unique, and if that solution depends on the data / experience but it is not sensitive to (reasonably small) changes in the data / experience.\n",
    "\n",
    "Identifying Good Problems for ML\n",
    "Start with the problem, not the solution. Make sure you aren't treating ML as a hammer for your problems. ...\n",
    "Be prepared to have your assumptions challenged. ...\n",
    "ML requires a lot of relevant data. ...\n",
    "Your features contain predictive power."
   ]
  },
  {
   "cell_type": "raw",
   "id": "8c27f727",
   "metadata": {},
   "source": [
    "6. Is machine learning capable of solving all problems? Give a detailed explanation of your answer.\n",
    "Ans: No machine learning is not capable of solving all the problems. \n",
    "    ---Creative works like graphics or game designing, Inventions (even the smallest ones) cannot be solved by using Machine Learning.Machine Learning requires data while inventing something requires analytics which currently artificial Intelligence lacks.Even though one can generate arts using GANs but Art is far away for AI to develop.\n",
    "\n",
    "Also Ethical/Emotional Intelligence problems are far away to be get solved by Artificial Intelligence.---------"
   ]
  },
  {
   "cell_type": "raw",
   "id": "ee7e02b2",
   "metadata": {},
   "source": [
    "7. What are the various methods and technologies for solving machine learning problems? Any two of them should be defined in detail.\n",
    "\n",
    "Ans: Regression.\n",
    "Classification.\n",
    "Clustering.\n",
    "Dimensionality Reduction.\n",
    "Ensemble Methods.\n",
    "Neural Nets and Deep Learning.\n",
    "Transfer Learning.\n",
    "Reinforcement Learning.\n",
    "\n",
    "---technologies--\n",
    "TensorFlow. ...\n",
    "Keras. ...\n",
    "Scikit-learn. ...\n",
    "Microsoft Cognitive Toolkit. ...\n",
    "Theano. ...\n",
    "Caffe. ...\n",
    "Torch. ...\n",
    "Accord.NET."
   ]
  },
  {
   "cell_type": "raw",
   "id": "04c269bc",
   "metadata": {},
   "source": [
    "9. What is the difference between supervised and unsupervised learning? With a sample application in each region, explain the differences.\n",
    "Supervised Learning\tUnsupervised Learning\n",
    "1. Supervised learning algorithms are trained using labeled data.\tUnsupervised learning algorithms are trained using unlabeled data.\n",
    "2. Supervised learning model takes direct feedback to check if it is predicting correct output or not.\tUnsupervised learning model does not take any feedback.\n",
    "3. Supervised learning model predicts the output.\tUnsupervised learning model finds the hidden patterns in data.\n",
    "4. In supervised learning, input data is provided to the model along with the output.\tIn unsupervised learning, only input data is provided to the model.\n",
    "5. The goal of supervised learning is to train the model so that it can predict the output when it is given new data.\tThe goal of unsupervised learning is to find the hidden patterns and useful insights from the unknown dataset.\n",
    "6. Supervised learning needs supervision to train the model.\tUnsupervised learning does not need any supervision to train the model.\n",
    "7. Supervised learning can be categorized in Classification and Regression problems.\tUnsupervised Learning can be classified in Clustering and Associations problems.\n",
    "8. Supervised learning can be used for those cases where we know the input as well as corresponding outputs.\tUnsupervised learning can be used for those cases where we have only input data and no corresponding output data.\n",
    "9. Supervised learning model produces an accurate result.\tUnsupervised learning model may give less accurate result as compared to supervised learning.\n",
    "10. Supervised learning is not close to true Artificial intelligence as in this, we first train the model for each data, and then only it can predict the correct output.\tUnsupervised learning is more close to the true Artificial Intelligence as it learns similarly as a child learns daily routine things by his experiences.\n",
    "\n",
    "11. It includes various algorithms such as Linear Regression, Logistic Regression, Support Vector Machine, Multi-class Classification, Decision tree, Bayesian Logic, etc.\tIt includes various algorithms such as Clustering, KNN, and Apriori algorithm"
   ]
  },
  {
   "cell_type": "raw",
   "id": "8100bf68",
   "metadata": {},
   "source": [
    "\n",
    "Q. 10. Describe the machine learning process in depth.\n",
    "\n",
    "a. Make brief notes on any two of the following:\n",
    "\n",
    "MATLAB is one of the most widely used programming languages.\n",
    "\n",
    "        ii. Deep learning applications in healthcare\n",
    "\n",
    "        iii. Study of the market basket\n",
    "\n",
    "         iv. Linear regression (simple)\n",
    "ii. Deep learning applications in healthcare:---------------\n",
    "    1. Identifying Diseases and Diagnosis ·\n",
    "    2. Drug Discovery and Manufacturing ·\n",
    "    3. Medical Imaging Diagnosis · \n",
    "    4. Personalized Medicine · \n",
    "   \n",
    "   iv. Linear regression (simple)\n",
    "   Simple linear regression is a statistical method that allows us to summarize and study relationships between two continuous (quantitative) variables.\n",
    "\n",
    "One variable, denoted x, is regarded as the predictor, explanatory, or independent variable.\n",
    "The other variable, denoted y, is regarded as the response, outcome, or dependent variable.\n",
    "\n",
    "---Height and weight — as height increases, you'd expect weight to increase, but not perfectly.\n",
    "Alcohol consumed and blood alcohol content — as alcohol consumption increases, you'd expect one's blood alcohol content to increase, but not perfectly.\n",
    "Vital lung capacity and pack-years of smoking — as amount of smoking increases (as quantified by the number of pack-years of smoking), you'd expect lung function (as quantified by vital lung capacity) to decrease, but not perfectly.\n",
    "Driving speed and gas mileage — as driving speed increases, you'd expect gas mileage to decrease, but not perfectly.--\n"
   ]
  },
  {
   "cell_type": "raw",
   "id": "c8e6fb18",
   "metadata": {},
   "source": [
    "11. Make a comparison between:-\n",
    "\n",
    "         1. Generalization and abstraction\n",
    "\n",
    "          2. Learning that is guided and unsupervised\n",
    "\n",
    "          3. Regression and classification\n",
    "          \n",
    "          \n",
    " -------Regression:\n",
    "Regression is a process of finding the correlations between dependent and independent variables. It helps in predicting the continuous variables such as prediction of Market Trends, prediction of House prices, etc.\n",
    "\n",
    "The task of the Regression algorithm is to find the mapping function to map the input variable(x) to the continuous output variable(y).\n",
    "\n",
    "Example: Suppose we want to do weather forecasting, so for this, we will use the Regression algorithm. In weather prediction, the model is trained on the past data, and once the training is completed, it can easily predict the weather for future days.-----------\n",
    "\n",
    "Regression Algorithm\tClassification Algorithm\n",
    "In Regression, the output variable must be of continuous nature or real value.\tIn Classification, the output variable must be a discrete value.\n",
    "The task of the regression algorithm is to map the input value (x) with the continuous output variable(y).\tThe task of the classification algorithm is to map the input value(x) with the discrete output variable(y).\n",
    "Regression Algorithms are used with continuous data.\tClassification Algorithms are used with discrete data.\n",
    "In Regression, we try to find the best fit line, which can predict the output more accurately.\tIn Classification, we try to find the decision boundary, which can divide the dataset into different classes.\n",
    "Regression algorithms can be used to solve the regression problems such as Weather Prediction, House price prediction, etc.\tClassification Algorithms can be used to solve classification problems such as Identification of spam emails, Speech Recognition, Identification of cancer cells, etc.\n",
    "The regression Algorithm can be further divided into Linear and Non-linear Regression.\tThe Classification algorithms can be divided into Binary Classifier and Multi-class Classifier."
   ]
  }
 ],
 "metadata": {
  "kernelspec": {
   "display_name": "Python 3",
   "language": "python",
   "name": "python3"
  },
  "language_info": {
   "codemirror_mode": {
    "name": "ipython",
    "version": 3
   },
   "file_extension": ".py",
   "mimetype": "text/x-python",
   "name": "python",
   "nbconvert_exporter": "python",
   "pygments_lexer": "ipython3",
   "version": "3.8.8"
  }
 },
 "nbformat": 4,
 "nbformat_minor": 5
}
